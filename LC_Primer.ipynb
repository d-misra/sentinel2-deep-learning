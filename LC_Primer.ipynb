{
 "cells": [
  {
   "cell_type": "markdown",
   "metadata": {},
   "source": [
    "# GSI Land Classification Primer\n",
    "#### Author: Alexey Tarutin\n",
    "\n",
    "This notebook gives an overview of the proposed GSI land classification mechanism, alongside results from a previous project in the same area of interest. The point of this is to improve upon this using notions of textural and windowed predictions based purely on optical imagery from a single date.\n",
    "\n",
    "This notebook outlines the following:\n",
    "* Reading the data\n",
    "* Clipping the data to the AOI\n",
    "* Preparing the data for machine learning\n",
    "* Training/prediction\n",
    "* Accuracy validation\n",
    "* Post-processing\n",
    "* Writing output\n",
    "\n",
    "Supplemental material to this notebook:\n",
    "* In the data/ directory\n",
    " * A Level 2 Sentinel-2 Scene from 28th of November 2017\n",
    " * A land classification map based on Corine from 2018 for training\n",
    " * Field boundaries for the area courtesy of the Centre for Ecology and Hydrology for aggregation of results\n",
    " * Validation boundaries created by GSI\n",
    "* environment.yml to create the Anaconda environment on your local machine. If you don't use Anaconda, please install the Python 3 distribution for your system: https://docs.conda.io/en/latest/miniconda.html\n",
    " * This is populated with the following command: `conda env create -f environment.yml`\n",
    " * Activate with: `conda activate geo`"
   ]
  },
  {
   "cell_type": "code",
   "execution_count": null,
   "metadata": {},
   "outputs": [],
   "source": [
    "import rasterio as rio\n",
    "import geopandas as gpd\n",
    "import os\n",
    "import sys\n",
    "from glob import glob\n",
    "from sklearn.ensemble import RandomForestClassifier\n",
    "from sklearn.neural_network import MLPClassifier\n",
    "import seaborn as sns\n",
    "import pylab as pl\n",
    "from fiona.crs import from_epsg\n",
    "from shapely.geometry import box as geobox\n",
    "from rasterstats import zonal_stats"
   ]
  },
  {
   "cell_type": "markdown",
   "metadata": {},
   "source": [
    "## Step 1\n",
    "Create a GeoJSON file using the coordinates for the area. This is to allow us to validate and verify data fit."
   ]
  },
  {
   "cell_type": "code",
   "execution_count": 2,
   "metadata": {},
   "outputs": [],
   "source": [
    "aoi_geo = geobox(-2.29, 51.51, -1.71, 51.61)\n",
    "aoi = gpd.GeoDataFrame([], geometry=[aoi_geo])\n",
    "aoi.crs = from_epsg(4326)\n",
    "aoi.to_file('./data/aoi.geojson', driver='GeoJSON')"
   ]
  },
  {
   "cell_type": "markdown",
   "metadata": {},
   "source": [
    "We have prepared a package named `land_classification` that gives a simple structure for file IO, dataset sampling and cleaning, machine learning, output validation, and postprocessing.\n",
    "\n",
    "You are welcome to modify functions in this as appropriate. Expect bugs."
   ]
  },
  {
   "cell_type": "code",
   "execution_count": 3,
   "metadata": {},
   "outputs": [],
   "source": [
    "import land_classification as lc"
   ]
  },
  {
   "cell_type": "markdown",
   "metadata": {},
   "source": [
    "## Step 2\n",
    "Load in Sentinel-2 scene data. \n",
    "\n",
    "Notes:\n",
    "* We are only using a single scene for this exercise. We want to maximise our ability to create land classification maps on only one image, this will also help us extend this to other applications such as change detection and phenology analysis.\n",
    "* This scene was downloaded from the Sentinel-2 Google Cloud Storage repository in SAFE format as Level-1C. This file was then processed to Level-2A using Sen2Cor for the advantages it provides, including atmospheric correction and improved cloud detection. Further information about level 2 Sentinel-2 imagery, advantages, and the relevant algorithms is available here: https://sentinel.esa.int/web/sentinel/technical-guides/sentinel-2-msi/level-2a/algorithm"
   ]
  },
  {
   "cell_type": "code",
   "execution_count": 4,
   "metadata": {},
   "outputs": [
    {
     "name": "stdout",
     "output_type": "stream",
     "text": [
      "Writing raster data/merged.tif with 4 bands.\n"
     ]
    },
    {
     "ename": "CRSError",
     "evalue": "The WKT could not be parsed. OGR Error code 7",
     "output_type": "error",
     "traceback": [
      "\u001b[0;31m---------------------------------------------------------------------------\u001b[0m",
      "\u001b[0;31mCPLE_BaseError\u001b[0m                            Traceback (most recent call last)",
      "\u001b[0;32mrasterio/_crs.pyx\u001b[0m in \u001b[0;36mrasterio._crs._CRS.from_user_input\u001b[0;34m()\u001b[0m\n",
      "\u001b[0;32mrasterio/_err.pyx\u001b[0m in \u001b[0;36mrasterio._err.exc_wrap_ogrerr\u001b[0;34m()\u001b[0m\n",
      "\u001b[0;31mCPLE_BaseError\u001b[0m: OGR Error code 7",
      "\nDuring handling of the above exception, another exception occurred:\n",
      "\u001b[0;31mCRSError\u001b[0m                                  Traceback (most recent call last)",
      "\u001b[0;32m<ipython-input-4-8dcb672f9cdd>\u001b[0m in \u001b[0;36m<module>\u001b[0;34m\u001b[0m\n\u001b[1;32m      1\u001b[0m \u001b[0ms2_band\u001b[0m \u001b[0;34m=\u001b[0m \u001b[0;34m'S2A_MSIL2A_20171128T111411_N0206_R137_T30UWC_20171128T130743.SAFE'\u001b[0m\u001b[0;34m\u001b[0m\u001b[0;34m\u001b[0m\u001b[0m\n\u001b[1;32m      2\u001b[0m \u001b[0mdata\u001b[0m\u001b[0;34m,\u001b[0m \u001b[0mprofile\u001b[0m \u001b[0;34m=\u001b[0m \u001b[0mlc\u001b[0m\u001b[0;34m.\u001b[0m\u001b[0mmerge_bands\u001b[0m\u001b[0;34m(\u001b[0m\u001b[0ms2_band\u001b[0m\u001b[0;34m)\u001b[0m\u001b[0;34m\u001b[0m\u001b[0;34m\u001b[0m\u001b[0m\n\u001b[0;32m----> 3\u001b[0;31m \u001b[0mlc\u001b[0m\u001b[0;34m.\u001b[0m\u001b[0mwrite_raster\u001b[0m\u001b[0;34m(\u001b[0m\u001b[0;34m'data/merged.tif'\u001b[0m\u001b[0;34m,\u001b[0m \u001b[0mdata\u001b[0m\u001b[0;34m,\u001b[0m \u001b[0mprofile\u001b[0m\u001b[0;34m)\u001b[0m\u001b[0;34m\u001b[0m\u001b[0;34m\u001b[0m\u001b[0m\n\u001b[0m",
      "\u001b[0;32m~/GSI/projects/msc/land_classification/land_classification/io.py\u001b[0m in \u001b[0;36mwrite_raster\u001b[0;34m(name, data, profile, nodata)\u001b[0m\n\u001b[1;32m     25\u001b[0m     \u001b[0mprint\u001b[0m\u001b[0;34m(\u001b[0m\u001b[0;34m\"Writing raster {} with {} bands.\"\u001b[0m\u001b[0;34m.\u001b[0m\u001b[0mformat\u001b[0m\u001b[0;34m(\u001b[0m\u001b[0mname\u001b[0m\u001b[0;34m,\u001b[0m \u001b[0mdata\u001b[0m\u001b[0;34m.\u001b[0m\u001b[0mshape\u001b[0m\u001b[0;34m[\u001b[0m\u001b[0;36m0\u001b[0m\u001b[0;34m]\u001b[0m\u001b[0;34m)\u001b[0m\u001b[0;34m)\u001b[0m\u001b[0;34m\u001b[0m\u001b[0;34m\u001b[0m\u001b[0m\n\u001b[1;32m     26\u001b[0m \u001b[0;34m\u001b[0m\u001b[0m\n\u001b[0;32m---> 27\u001b[0;31m     \u001b[0;32mwith\u001b[0m \u001b[0mrio\u001b[0m\u001b[0;34m.\u001b[0m\u001b[0mopen\u001b[0m\u001b[0;34m(\u001b[0m\u001b[0mname\u001b[0m\u001b[0;34m,\u001b[0m \u001b[0;34m\"w\"\u001b[0m\u001b[0;34m,\u001b[0m \u001b[0;34m**\u001b[0m\u001b[0mprofile\u001b[0m\u001b[0;34m)\u001b[0m \u001b[0;32mas\u001b[0m \u001b[0mdst\u001b[0m\u001b[0;34m:\u001b[0m\u001b[0;34m\u001b[0m\u001b[0;34m\u001b[0m\u001b[0m\n\u001b[0m\u001b[1;32m     28\u001b[0m         \u001b[0;32mfor\u001b[0m \u001b[0mi\u001b[0m \u001b[0;32min\u001b[0m \u001b[0mrange\u001b[0m\u001b[0;34m(\u001b[0m\u001b[0mlen\u001b[0m\u001b[0;34m(\u001b[0m\u001b[0mdata\u001b[0m\u001b[0;34m)\u001b[0m\u001b[0;34m)\u001b[0m\u001b[0;34m:\u001b[0m\u001b[0;34m\u001b[0m\u001b[0;34m\u001b[0m\u001b[0m\n\u001b[1;32m     29\u001b[0m             \u001b[0mprint\u001b[0m\u001b[0;34m(\u001b[0m\u001b[0;34m\"Writing band {} of {}\"\u001b[0m\u001b[0;34m.\u001b[0m\u001b[0mformat\u001b[0m\u001b[0;34m(\u001b[0m\u001b[0mi\u001b[0m\u001b[0;34m+\u001b[0m\u001b[0;36m1\u001b[0m\u001b[0;34m,\u001b[0m \u001b[0mdata\u001b[0m\u001b[0;34m.\u001b[0m\u001b[0mshape\u001b[0m\u001b[0;34m[\u001b[0m\u001b[0;36m0\u001b[0m\u001b[0;34m]\u001b[0m\u001b[0;34m)\u001b[0m\u001b[0;34m)\u001b[0m\u001b[0;34m\u001b[0m\u001b[0;34m\u001b[0m\u001b[0m\n",
      "\u001b[0;32m~/miniconda3/envs/geo/lib/python3.6/site-packages/rasterio/env.py\u001b[0m in \u001b[0;36mwrapper\u001b[0;34m(*args, **kwds)\u001b[0m\n\u001b[1;32m    421\u001b[0m \u001b[0;34m\u001b[0m\u001b[0m\n\u001b[1;32m    422\u001b[0m         \u001b[0;32mwith\u001b[0m \u001b[0menv_ctor\u001b[0m\u001b[0;34m(\u001b[0m\u001b[0msession\u001b[0m\u001b[0;34m=\u001b[0m\u001b[0msession\u001b[0m\u001b[0;34m)\u001b[0m\u001b[0;34m:\u001b[0m\u001b[0;34m\u001b[0m\u001b[0;34m\u001b[0m\u001b[0m\n\u001b[0;32m--> 423\u001b[0;31m             \u001b[0;32mreturn\u001b[0m \u001b[0mf\u001b[0m\u001b[0;34m(\u001b[0m\u001b[0;34m*\u001b[0m\u001b[0margs\u001b[0m\u001b[0;34m,\u001b[0m \u001b[0;34m**\u001b[0m\u001b[0mkwds\u001b[0m\u001b[0;34m)\u001b[0m\u001b[0;34m\u001b[0m\u001b[0;34m\u001b[0m\u001b[0m\n\u001b[0m\u001b[1;32m    424\u001b[0m \u001b[0;34m\u001b[0m\u001b[0m\n\u001b[1;32m    425\u001b[0m     \u001b[0;32mreturn\u001b[0m \u001b[0mwrapper\u001b[0m\u001b[0;34m\u001b[0m\u001b[0;34m\u001b[0m\u001b[0m\n",
      "\u001b[0;32m~/miniconda3/envs/geo/lib/python3.6/site-packages/rasterio/__init__.py\u001b[0m in \u001b[0;36mopen\u001b[0;34m(fp, mode, driver, width, height, count, crs, transform, dtype, nodata, sharing, **kwargs)\u001b[0m\n\u001b[1;32m    223\u001b[0m                                               \u001b[0mtransform\u001b[0m\u001b[0;34m=\u001b[0m\u001b[0mtransform\u001b[0m\u001b[0;34m,\u001b[0m\u001b[0;34m\u001b[0m\u001b[0;34m\u001b[0m\u001b[0m\n\u001b[1;32m    224\u001b[0m                                               \u001b[0mdtype\u001b[0m\u001b[0;34m=\u001b[0m\u001b[0mdtype\u001b[0m\u001b[0;34m,\u001b[0m \u001b[0mnodata\u001b[0m\u001b[0;34m=\u001b[0m\u001b[0mnodata\u001b[0m\u001b[0;34m,\u001b[0m\u001b[0;34m\u001b[0m\u001b[0;34m\u001b[0m\u001b[0m\n\u001b[0;32m--> 225\u001b[0;31m                                               **kwargs)\n\u001b[0m\u001b[1;32m    226\u001b[0m         \u001b[0;32melse\u001b[0m\u001b[0;34m:\u001b[0m\u001b[0;34m\u001b[0m\u001b[0;34m\u001b[0m\u001b[0m\n\u001b[1;32m    227\u001b[0m             raise ValueError(\n",
      "\u001b[0;32mrasterio/_io.pyx\u001b[0m in \u001b[0;36mrasterio._io.DatasetWriterBase.__init__\u001b[0;34m()\u001b[0m\n",
      "\u001b[0;32mrasterio/_io.pyx\u001b[0m in \u001b[0;36mrasterio._io.DatasetWriterBase._set_crs\u001b[0;34m()\u001b[0m\n",
      "\u001b[0;32m~/miniconda3/envs/geo/lib/python3.6/site-packages/rasterio/crs.py\u001b[0m in \u001b[0;36mfrom_user_input\u001b[0;34m(cls, value, morph_from_esri_dialect)\u001b[0m\n\u001b[1;32m    432\u001b[0m         \u001b[0;32melif\u001b[0m \u001b[0misinstance\u001b[0m\u001b[0;34m(\u001b[0m\u001b[0mvalue\u001b[0m\u001b[0;34m,\u001b[0m \u001b[0mstring_types\u001b[0m\u001b[0;34m)\u001b[0m\u001b[0;34m:\u001b[0m\u001b[0;34m\u001b[0m\u001b[0;34m\u001b[0m\u001b[0m\n\u001b[1;32m    433\u001b[0m             \u001b[0mobj\u001b[0m \u001b[0;34m=\u001b[0m \u001b[0mcls\u001b[0m\u001b[0;34m(\u001b[0m\u001b[0;34m)\u001b[0m\u001b[0;34m\u001b[0m\u001b[0;34m\u001b[0m\u001b[0m\n\u001b[0;32m--> 434\u001b[0;31m             \u001b[0mobj\u001b[0m\u001b[0;34m.\u001b[0m\u001b[0m_crs\u001b[0m \u001b[0;34m=\u001b[0m \u001b[0m_CRS\u001b[0m\u001b[0;34m.\u001b[0m\u001b[0mfrom_user_input\u001b[0m\u001b[0;34m(\u001b[0m\u001b[0mvalue\u001b[0m\u001b[0;34m,\u001b[0m \u001b[0mmorph_from_esri_dialect\u001b[0m\u001b[0;34m=\u001b[0m\u001b[0mmorph_from_esri_dialect\u001b[0m\u001b[0;34m)\u001b[0m\u001b[0;34m\u001b[0m\u001b[0;34m\u001b[0m\u001b[0m\n\u001b[0m\u001b[1;32m    435\u001b[0m             \u001b[0;32mreturn\u001b[0m \u001b[0mobj\u001b[0m\u001b[0;34m\u001b[0m\u001b[0;34m\u001b[0m\u001b[0m\n\u001b[1;32m    436\u001b[0m         \u001b[0;32melse\u001b[0m\u001b[0;34m:\u001b[0m\u001b[0;34m\u001b[0m\u001b[0;34m\u001b[0m\u001b[0m\n",
      "\u001b[0;32mrasterio/_crs.pyx\u001b[0m in \u001b[0;36mrasterio._crs._CRS.from_user_input\u001b[0;34m()\u001b[0m\n",
      "\u001b[0;31mCRSError\u001b[0m: The WKT could not be parsed. OGR Error code 7"
     ]
    }
   ],
   "source": [
    "s2_band = 'S2A_MSIL2A_20171128T111411_N0206_R137_T30UWC_20171128T130743.SAFE'\n",
    "data, profile = lc.merge_bands(s2_band)\n",
    "lc.write_raster('data/merged.tif', data, profile)"
   ]
  },
  {
   "cell_type": "code",
   "execution_count": 5,
   "metadata": {},
   "outputs": [
    {
     "name": "stdout",
     "output_type": "stream",
     "text": [
      "Writing raster data/masked.tif with 4 bands.\n",
      "Writing band 1 of 4\n",
      "Writing band 2 of 4\n",
      "Writing band 3 of 4\n",
      "Writing band 4 of 4\n",
      "File data/masked.tif written.\n"
     ]
    }
   ],
   "source": [
    "lc.mask_raster(aoi, 'data/merged.tif', 'data/masked.tif')"
   ]
  },
  {
   "cell_type": "code",
   "execution_count": 4,
   "metadata": {},
   "outputs": [],
   "source": [
    "lc.copy_projection('data/masked.tif', 'data/Corine_Orig_10m_OS_AoI1.tif','data/Corine_S2_Proj_2.tif')"
   ]
  },
  {
   "cell_type": "code",
   "execution_count": 4,
   "metadata": {},
   "outputs": [],
   "source": [
    "mask_src = rio.open('data/masked.tif')\n",
    "profile = mask_src.profile\n",
    "c_tif = rio.open('data/Corine_S2_Proj_2.tif')\n",
    "c_data = c_tif.read()\n",
    "data = mask_src.read(list(pl.arange(mask_src.count) + 1))\n",
    "gdf = lc.create_raster_df(data)\n",
    "gdf = lc.calc_indices(gdf)\n",
    "gdf['labels'] = lc.create_raster_df(pred_array=c_data, bands=['labels'])['labels']"
   ]
  },
  {
   "cell_type": "code",
   "execution_count": 5,
   "metadata": {},
   "outputs": [
    {
     "name": "stderr",
     "output_type": "stream",
     "text": [
      "/home/alexey/GSI/projects/msc/land_classification/land_classification/preprocessing.py:15: SettingWithCopyWarning: \n",
      "A value is trying to be set on a copy of a slice from a DataFrame.\n",
      "Try using .loc[row_indexer,col_indexer] = value instead\n",
      "\n",
      "See the caveats in the documentation: http://pandas.pydata.org/pandas-docs/stable/indexing.html#indexing-view-versus-copy\n",
      "  lab_clean['labels'] = i\n"
     ]
    }
   ],
   "source": [
    "clean_df = lc.remove_outliers(gdf)\n",
    "\n",
    "clean_df = lc.create_zero_samples(clean_df)\n",
    "clean_df = lc.calc_indices(clean_df)\n",
    "clean_df = lc.onehot_targets(clean_df)"
   ]
  },
  {
   "cell_type": "markdown",
   "metadata": {},
   "source": [
    "The original projection of this was incorrect. The file you receive should have the same projection as the S2 data. If it doesn't, run the below line."
   ]
  },
  {
   "cell_type": "code",
   "execution_count": null,
   "metadata": {},
   "outputs": [],
   "source": [
    "pred, proba, cm, cls = lc.classify(clean_df, name='cv_mlp', bands=None)"
   ]
  },
  {
   "cell_type": "markdown",
   "metadata": {},
   "source": [
    "# Window based clustering\n",
    "\n",
    "Below is a naive implementation of aggregating neighbouring pixels by a window. This is more of a illustrative attempt and is very much subject to improvement. These include\n",
    "* Using a variable stride for the sliding window. Right now it's a constant based on the window size\n",
    "* Random sampling of image\n",
    "* Allow prediction on class patches"
   ]
  },
  {
   "cell_type": "code",
   "execution_count": 103,
   "metadata": {},
   "outputs": [],
   "source": [
    "win_res = 10 ## Window resolution of 10 implies 100m pixels to predict\n",
    "data_30 = pl.zeros(shape=(data.shape[0], int(data.shape[1]/win_res), int(data.shape[1]/win_res), win_res, win_res))\n",
    "\n",
    "feature_stack = pl.zeros(shape=(pl.array(data_30.shape[1:3]).prod(), data_30.shape[0]*pl.array(data_30.shape[3:]).prod()))\n",
    "k = 0\n",
    "for i in pl.arange(data_30.shape[1]):\n",
    "    for j in pl.arange(data_30.shape[2]):\n",
    "        tmp_ar = data[:, (i*win_res):(i*win_res)+win_res, (j*win_res):(j*win_res)+win_res]\n",
    "        row = pl.zeros((win_res ** 2) * data.shape[0])\n",
    "        for l, a in enumerate(tmp_ar):\n",
    "            af = a.flatten()\n",
    "            pl.shuffle(af)\n",
    "            row[(l*(win_res**2)):(l*(win_res**2)) + (win_res**2)] = af\n",
    "        feature_stack[k, :] = row\n",
    "        k += 1\n",
    "feature_stack = pl.stack(feature_stack)"
   ]
  },
  {
   "cell_type": "code",
   "execution_count": null,
   "metadata": {},
   "outputs": [],
   "source": []
  }
 ],
 "metadata": {
  "kernelspec": {
   "display_name": "Python 3",
   "language": "python",
   "name": "python3"
  },
  "language_info": {
   "codemirror_mode": {
    "name": "ipython",
    "version": 3
   },
   "file_extension": ".py",
   "mimetype": "text/x-python",
   "name": "python",
   "nbconvert_exporter": "python",
   "pygments_lexer": "ipython3",
   "version": "3.6.8"
  }
 },
 "nbformat": 4,
 "nbformat_minor": 2
}
